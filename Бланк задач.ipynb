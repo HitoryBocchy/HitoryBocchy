{
  "nbformat": 4,
  "nbformat_minor": 0,
  "metadata": {
    "colab": {
      "provenance": [],
      "gpuType": "T4",
      "authorship_tag": "ABX9TyPO5/QZBW6yIbDPL6dmqqx7",
      "include_colab_link": true
    },
    "kernelspec": {
      "name": "python3",
      "display_name": "Python 3"
    },
    "language_info": {
      "name": "python"
    },
    "accelerator": "GPU"
  },
  "cells": [
    {
      "cell_type": "markdown",
      "metadata": {
        "id": "view-in-github",
        "colab_type": "text"
      },
      "source": [
        "<a href=\"https://colab.research.google.com/github/HitoryBocchy/HitoryBocchy/blob/main/%D0%91%D0%BB%D0%B0%D0%BD%D0%BA%20%D0%B7%D0%B0%D0%B4%D0%B0%D1%87.ipynb\" target=\"_parent\"><img src=\"https://colab.research.google.com/assets/colab-badge.svg\" alt=\"Open In Colab\"/></a>"
      ]
    },
    {
      "cell_type": "code",
      "source": [],
      "metadata": {
        "id": "trXi9N_xpq3W"
      },
      "execution_count": null,
      "outputs": []
    },
    {
      "cell_type": "markdown",
      "source": [],
      "metadata": {
        "id": "aQEwklu-qNUC"
      }
    },
    {
      "cell_type": "code",
      "source": [
        "(6.67*10**(-11) * 5.97 * 10**(24) / 6371000)**(1/2) # я физек)"
      ],
      "metadata": {
        "colab": {
          "base_uri": "https://localhost:8080/"
        },
        "id": "TLpglIQDqrgV",
        "outputId": "f6eb1eb4-4326-4722-b716-a1bafd69dfc2"
      },
      "execution_count": null,
      "outputs": [
        {
          "output_type": "execute_result",
          "data": {
            "text/plain": [
              "7905.8083112450695"
            ]
          },
          "metadata": {},
          "execution_count": 3
        }
      ]
    },
    {
      "cell_type": "markdown",
      "source": [
        "\n",
        "\n",
        "Здесь важно внести ясность в употреблении понятий аргументы и параметры, когда мы говорим о функциях. Программисты часто сами путают эти понятия и свободно употребляют оба выражения. Но в академическом плане нам с вами важно понять разницу:\n",
        "\n",
        "> **Параметром функции** называется переменная в функции, которая будет содержать передаваемое снаружи входное значение.\n",
        "\n",
        "> **Аргументом** называют фактическую переменную или выражение, значение которого используется как входное значение при вызове функции.\n",
        "\n",
        "Т.е. функции мы передаем **аргументы**, а внутри функции, используем **параметры**. Когда мы говорим о параметрах функции, то рассматриваем внутреннее устройство функции, когда говорим об аргументах, то нам важно само передаваемое значение.\n"
      ],
      "metadata": {
        "id": "L8_O1XmvfGmY"
      }
    },
    {
      "cell_type": "code",
      "source": [
        "small_bottles = int(input (\"кол-во маленьких:   \"))\n",
        "big_bottles = int( input (\"кол-во больших:  \"))\n",
        "\n",
        "small_bootle_cost = 0.10\n",
        "big_bottle_cost = 0.25\n",
        "\n",
        "small_bootle_total = small_bottles * small_bootle_cost\n",
        "big_bottle_total = big_bottles * big_bottle_cost\n",
        "\n",
        "total_cost = small_bootle_total + big_bottle_total\n",
        "\n",
        "formatted_amound = \"${:.2f}\".format(total_cost)\n",
        "print(\"общая сумма выручки:\",formatted_amound)\n"
      ],
      "metadata": {
        "colab": {
          "base_uri": "https://localhost:8080/"
        },
        "id": "XUNXyBc0kO-b",
        "outputId": "44802f7a-ad39-446f-8640-3956e439b6bc"
      },
      "execution_count": null,
      "outputs": [
        {
          "output_type": "stream",
          "name": "stdout",
          "text": [
            "кол-во маленьких:   12\n",
            "кол-во больших:  12\n",
            "общая сумма выручки: $4.20\n"
          ]
        }
      ]
    },
    {
      "cell_type": "code",
      "source": [
        "n = int(input(\"введите число: \"))\n",
        "sm = n * (n+1) / 2\n",
        "print(\"сумма первых %d двух чисел равнааааа %d\" % (n, sm))"
      ],
      "metadata": {
        "colab": {
          "base_uri": "https://localhost:8080/"
        },
        "id": "AK5FLHmQm31E",
        "outputId": "302576f5-4c7b-44b9-adf2-6d4b025e021b"
      },
      "execution_count": null,
      "outputs": [
        {
          "output_type": "stream",
          "name": "stdout",
          "text": [
            "введите число: 124\n",
            "сумма первых 124 двух чисел равнааааа 7750\n"
          ]
        }
      ]
    },
    {
      "cell_type": "code",
      "source": [
        "from math import tan, pi\n",
        "s = float(input(\"введите длинну: \"))\n",
        "n = int(input(\"введите число сторон : \"))\n",
        "area = (n * s ** 2 )/ (4 * tan( pi/ n))\n",
        "print (\"общага равна\", area)\n"
      ],
      "metadata": {
        "colab": {
          "base_uri": "https://localhost:8080/"
        },
        "id": "GIWXlvLdoisq",
        "outputId": "ab000c9e-6f39-4f04-dcda-7ee163b92c92"
      },
      "execution_count": null,
      "outputs": [
        {
          "output_type": "stream",
          "name": "stdout",
          "text": [
            "введите длинну: 65\n",
            "введите число сторон : 12\n",
            "общага равна 47303.74398593552\n"
          ]
        }
      ]
    },
    {
      "cell_type": "code",
      "source": [
        "SECONDS_PER_DAY = 86400\n",
        "SECONDS_PER_HOUR = 3600\n",
        "SECONDS_PER_MINUTE = 60\n",
        "\n",
        "seconds = int(input(\"Введите количество секунд: \"))\n",
        "\n",
        "days = seconds / SECONDS_PER_DAY\n",
        "seconds = seconds % SECONDS_PER_DAY\n",
        "hours = seconds / SECONDS_PER_HOUR\n",
        "seconds = seconds % SECONDS_PER_HOUR\n",
        "minutes = seconds / SECONDS_PER_MINUTE\n",
        "seconds = seconds % SECONDS_PER_MINUTE\n",
        "\n",
        "print(\"Длительность:\",\"%d %02d:%02d:%02d.\" % (days, hours, minutes, seconds))"
      ],
      "metadata": {
        "colab": {
          "base_uri": "https://localhost:8080/"
        },
        "id": "A-1VHfHkpnpt",
        "outputId": "ea18e28d-f7b9-4d01-ecbb-a595c4cf8d48"
      },
      "execution_count": null,
      "outputs": [
        {
          "output_type": "stream",
          "name": "stdout",
          "text": [
            "Введите количество секунд: 99999999\n",
            "Длительность: 1157 09:46:39.\n"
          ]
        }
      ]
    },
    {
      "cell_type": "markdown",
      "source": [
        "**Условие.** Напишите программу, запрашивающую у пользователя его имя. В ответ\n",
        "на ввод на экране должно появиться приветствие с обращением по имени,\n",
        "введенному с клавиатуры ранее."
      ],
      "metadata": {
        "id": "-M1wUDz2rod5"
      }
    },
    {
      "cell_type": "code",
      "source": [
        "del print"
      ],
      "metadata": {
        "colab": {
          "base_uri": "https://localhost:8080/",
          "height": 145
        },
        "id": "3JsyoQPVgdhO",
        "outputId": "713810cb-60d1-48dd-d7e6-84f0e41439b0"
      },
      "execution_count": null,
      "outputs": [
        {
          "output_type": "error",
          "ename": "NameError",
          "evalue": "name 'print' is not defined",
          "traceback": [
            "\u001b[0;31m---------------------------------------------------------------------------\u001b[0m",
            "\u001b[0;31mNameError\u001b[0m                                 Traceback (most recent call last)",
            "\u001b[0;32m<ipython-input-46-1683c75ea801>\u001b[0m in \u001b[0;36m<cell line: 0>\u001b[0;34m()\u001b[0m\n\u001b[0;32m----> 1\u001b[0;31m \u001b[0;32mdel\u001b[0m \u001b[0mprint\u001b[0m\u001b[0;34m\u001b[0m\u001b[0;34m\u001b[0m\u001b[0m\n\u001b[0m",
            "\u001b[0;31mNameError\u001b[0m: name 'print' is not defined"
          ]
        }
      ]
    },
    {
      "cell_type": "code",
      "source": [
        "\n",
        "name = input(\"ВВЕДИТЕ ВАШЕ ИМЯ:\")\n",
        "print(\"CONGRATULATIONS DEAR - \",name)"
      ],
      "metadata": {
        "colab": {
          "base_uri": "https://localhost:8080/"
        },
        "id": "1abn-QV0rpi6",
        "outputId": "f38defc0-c529-4d3a-f8b1-830fcb604979"
      },
      "execution_count": null,
      "outputs": [
        {
          "output_type": "stream",
          "name": "stdout",
          "text": [
            "ВВЕДИТЕ ВАШЕ ИМЯ:NGHJF\n",
            "CONGRATULATIONS DEAR -  NGHJF\n"
          ]
        }
      ]
    },
    {
      "cell_type": "markdown",
      "source": [
        "**Условие.** Интернет-магазин занимается продажей различных сувениров и безделушек. Каждый сувенир весит 75 г, а безделушка – 112 г. Напишите программу, запрашивающую у пользователя количество тех и других покупок,\n",
        "после чего выведите на экран общий вес посылки.\n"
      ],
      "metadata": {
        "id": "UsILHaaEr36U"
      }
    },
    {
      "cell_type": "code",
      "source": [
        "small_suvenirs = int(input (\"кол-во маленьких сувениров:   \"))\n",
        "big_junk = int( input (\"кол-во больших:  \"))\n",
        "\n",
        "small_suvenirs_mass = 0.75\n",
        "big_junk_mass = 0.112\n",
        "\n",
        "\n",
        "\n",
        "small_suvenirs_total = small_suvenirs_mass * small_suvenirs_mass\n",
        "big_junk_total = big_junk * big_junk_mass\n",
        "\n",
        "total_mass = small_suvenirs_total + big_junk_total\n",
        "\n",
        "formatted_amound = \"{:.3f}\".format(total_mass)\n",
        "print(\"общая масса посылки составляет:\",formatted_amound)\n"
      ],
      "metadata": {
        "id": "Snsly_q7r4nn",
        "colab": {
          "base_uri": "https://localhost:8080/"
        },
        "outputId": "5c0301fa-d757-441b-f982-f82d8e0aee7c"
      },
      "execution_count": null,
      "outputs": [
        {
          "output_type": "stream",
          "name": "stdout",
          "text": [
            "кол-во маленьких сувениров:   1\n",
            "кол-во больших:  1\n",
            "общая масса посылки составляет: 0.674\n"
          ]
        }
      ]
    },
    {
      "cell_type": "markdown",
      "source": [
        "\n",
        "\n",
        "Условие. Представьте, что вы открыли в банке сберегательный счет под 4 % годовых. Проценты банк рассчитывает в конце года и добавляет к сумме счета. Напишите программу, которая запрашивает у пользователя сумму первоначального депозита, после чего рассчитывает и выводит на экран сумму на счету в конце первого, второго и третьего годов. Все суммы должны быть округлены до двух знаков после запятой.\n"
      ],
      "metadata": {
        "id": "pUaHEzMWr5TZ"
      }
    },
    {
      "cell_type": "code",
      "source": [
        "first_walui = float(input(\"Введите сумму первоначального депозита:\"))\n",
        "total_walui_1 = first_walui * 1.04\n",
        "total_walui_2 = total_walui_1 * 1.04\n",
        "total_walui_3 = total_walui_2 * 1.04\n",
        "print(\"%.2f\" % total_walui_1, \"%.2f\" %  total_walui_2 , \"%.2f\" %  total_walui_3 )"
      ],
      "metadata": {
        "id": "NmwOtBJZr7Tw",
        "colab": {
          "base_uri": "https://localhost:8080/"
        },
        "outputId": "0b31c57b-1d30-4453-f0c0-cb55b484db32"
      },
      "execution_count": null,
      "outputs": [
        {
          "output_type": "stream",
          "name": "stdout",
          "text": [
            "Введите сумму первоначального депозита:1231.222\n",
            "1280.47 1331.69 1384.96\n"
          ]
        }
      ]
    },
    {
      "cell_type": "markdown",
      "source": [
        "\n",
        "\n",
        "Условие. Создайте программу, которая запрашивает у пользователя два целых числа a и b, после чего выводит на экран результаты следующих математических операций:\n",
        "\n",
        "    сумма a и b;\n",
        "    разница между a и b;\n",
        "    произведение a и b;\n",
        "    частное от деления a на b;\n",
        "    остаток от деления a на b;\n",
        "    десятичный логарифм числа a;\n",
        "    результат возведения числа a в степень b.\n",
        "\n",
        "\n"
      ],
      "metadata": {
        "id": "yMsClndksAHJ"
      }
    },
    {
      "cell_type": "code",
      "source": [
        "import math\n",
        "a = int(input(\"введите значение a:\"))\n",
        "b = int(input(\"введите значение b:\"))\n",
        "print( a + b, a - b, a * b, a + b, a / b, a / b, math.log10(a) , a ** b)"
      ],
      "metadata": {
        "id": "x3yJyHqCsBti",
        "colab": {
          "base_uri": "https://localhost:8080/"
        },
        "outputId": "701bbc3f-12a0-4a98-e6b1-874de48285e6"
      },
      "execution_count": null,
      "outputs": [
        {
          "output_type": "stream",
          "name": "stdout",
          "text": [
            "введите значение a:23\n",
            "введите значение b:23\n",
            "46 0 529 46 1.0 1.0 1.3617278360175928 20880467999847912034355032910567\n"
          ]
        }
      ]
    },
    {
      "cell_type": "markdown",
      "source": [
        "Условие. Представьте, что вы пишете программное обеспечение для автоматической кассы в магазине самообслуживания. Одной из функций, заложенных в кассу, должен быть расчет сдачи в случае оплаты покупателем наличными. Напишите программу, которая будет запрашивать у пользователя сумму сдачи в копейках. После этого она должна рассчитать и вывести на экран, сколько и каких монет потребуется для выдачи указанной суммы, при условии что должно быть задействовано минимально возможное количество монет. Допустим, у нас есть в распоряжении монеты достоинством в 1, 5, 10, 50 копеек, а также в 1, 2 и 5 рублей."
      ],
      "metadata": {
        "id": "PiFb4DQEsB6I"
      }
    },
    {
      "cell_type": "markdown",
      "source": [],
      "metadata": {
        "id": "YyphLry1sDVH"
      }
    },
    {
      "cell_type": "code",
      "source": [
        "cops_per_fiverubbles = 500\n",
        "cops_per_tworubbles = 200\n",
        "cops_per_rubble = 100\n",
        "fiveteencops_per_cops = 50\n",
        "tencops_per_cops = 10\n",
        "fivecops_per_cops = 5\n",
        "cops_per_cops = 1\n",
        "change = int(input(\"Введите сумму сдачи в копейках:\"))\n",
        "print(\" \", change // cops_per_fiverubbles,\" Пятирублёвых монет будет выдано\" )\n",
        "change = change % cops_per_fiverubbles\n",
        "print(\" \", change // cops_per_tworubbles,\" Двурублёвых монет будет выдано\" )\n",
        "change = change % cops_per_tworubbles\n",
        "print(\" \", change // cops_per_rubble,\" Рублёвых монет будет выдано\" )\n",
        "change = change % cops_per_rubble\n",
        "print(\" \", change // fiveteencops_per_cops,\"Пятидесятикопеечных монет будет выдано\" )\n",
        "change = change % fiveteencops_per_cops\n",
        "print(\" \", change // tencops_per_cops,\"десятикопеечных монет будет выдано\" )\n",
        "change = change % tencops_per_cops\n",
        "print(\" \", change // fivecops_per_cops,\"пятикопеечных монет будет выдано\" )\n",
        "change = change % fivecops_per_cops\n",
        "print(\" \", change // cops_per_cops,\"копеечных монет будет выдано\" )\n",
        "change = change % cops_per_cops"
      ],
      "metadata": {
        "id": "G7dq26hJsECj",
        "colab": {
          "base_uri": "https://localhost:8080/"
        },
        "outputId": "76eccb1d-1e76-4026-d8ee-dcb26c970935"
      },
      "execution_count": null,
      "outputs": [
        {
          "output_type": "stream",
          "name": "stdout",
          "text": [
            "Введите сумму сдачи в копейках:999\n",
            "  1  Пятирублёвых монет будет выдано\n",
            "  2  Двурублёвых монет будет выдано\n",
            "  0  Рублёвых монет будет выдано\n",
            "  1 Пятидесятикопеечных монет будет выдано\n",
            "  4 десятикопеечных монет будет выдано\n",
            "  1 пятикопеечных монет будет выдано\n",
            "  4 копеечных монет будет выдано\n"
          ]
        }
      ]
    },
    {
      "cell_type": "markdown",
      "source": [
        "Условие. Пекарня продает хлеб по 49 рублей за буханку. Скидка на вчерашний хлеб составляет 60 %. Напишите программу, которая будет запрашивать у пользователя количество приобретенных вчерашних буханок хлеба. В вывод на экран должны быть включены обычная цена за буханку, цена со скидкой и общая стоимость приобретенного хлеба. Все значения должны быть выведены на отдельных строках с соответствующими описаниями. Используйте для вывода формат с двумя знаками после запятой и 5-ю знакоместами."
      ],
      "metadata": {
        "id": "HRK5DB6rsFCZ"
      }
    },
    {
      "cell_type": "code",
      "source": [
        "a = 49\n",
        "b = 49 * 0.6\n",
        "price_sale = int(input(\"Введите количество преобретённого вчера хлеба:\"))\n",
        "print (\"Цена за буханку: %5.2f \" %  a)\n",
        "print (\"Цена за буханку вчерашенго со скидкой:%5.2f \" % b)\n",
        "total_cost = b * price_sale\n",
        "print (\"Общая стоймость вчерашнего хлеба: %5.2f\"  % total_cost)\n"
      ],
      "metadata": {
        "id": "9G2qHUfcsFon",
        "colab": {
          "base_uri": "https://localhost:8080/"
        },
        "outputId": "ed88d45e-e457-4881-e76f-42775eb79510"
      },
      "execution_count": null,
      "outputs": [
        {
          "output_type": "stream",
          "name": "stdout",
          "text": [
            "Введите количество преобретённого вчера хлеба:22\n",
            "Цена за буханку: 49.00 \n",
            "Цена за буханку вчерашенго со скидкой:29.40 \n",
            "Общая стоймость вчерашнего хлеба: 646.80\n"
          ]
        }
      ]
    },
    {
      "cell_type": "code",
      "source": [],
      "metadata": {
        "id": "FMq7Ybwr-DtM"
      },
      "execution_count": null,
      "outputs": []
    }
  ]
}